{
 "cells": [
  {
   "cell_type": "markdown",
   "metadata": {},
   "source": [
    "# Modeling LC-SFC/MS data to augment separation scientists\n",
    "\n",
    "The goal of this notebook is to give an overview of modeling ideas and approaches to model LC-SFC/MS data "
   ]
  },
  {
   "cell_type": "code",
   "execution_count": 2,
   "metadata": {},
   "outputs": [],
   "source": [
    "%load_ext autoreload\n",
    "%autoreload 2\n",
    "#%matplotlib inline\n",
    "import pandas as pd \n",
    "import rdkit\n",
    "import h5py\n",
    "import sys\n",
    "import time\n",
    "import numpy as np\n",
    "import sklearn\n",
    "import py3Dmol\n",
    "import ipywidgets\n",
    "import seaborn as sn\n",
    "import matplotlib.pyplot as plt\n",
    "import joblib\n",
    "\n",
    "\n",
    "\n",
    "from rdkit.Chem import Descriptors\n",
    "from rdkit.ML.Descriptors import MoleculeDescriptors\n",
    "from rdkit.Chem import MACCSkeys\n",
    "from rdkit import Chem\n",
    "from rdkit.Chem import AllChem as Chem\n",
    "from rdkit.Chem import PandasTools\n",
    "from sklearn.model_selection import RandomizedSearchCV, train_test_split\n",
    "from sklearn.ensemble import RandomForestRegressor, RandomForestClassifier\n",
    "from sklearn import metrics\n",
    "from sklearn.metrics import classification_report, confusion_matrix, accuracy_score, roc_curve, auc, roc_auc_score\n",
    "\n",
    "\n",
    "\n",
    "from sklearn.feature_selection import VarianceThreshold\n",
    "from pprint import pprint\n",
    "from collections import defaultdict\n",
    "\n",
    "\n",
    "from ipywidgets import interact,fixed,IntSlider\n",
    "\n"
   ]
  },
  {
   "cell_type": "markdown",
   "metadata": {},
   "source": [
    "## Notebook Parameters\n",
    "For traceability purposes, all parameters that are used when transforming data or make analysis is put in the below cell. These should preferably also be stored in the notebook output file. "
   ]
  },
  {
   "cell_type": "code",
   "execution_count": 5,
   "metadata": {},
   "outputs": [],
   "source": [
    "# set notebook parameters\n",
    "datafile = 'Data/METLIN/dataset_withKallisto.csv'"
   ]
  },
  {
   "cell_type": "markdown",
   "metadata": {},
   "source": [
    "## Now lets look at the pre-analysis data for retention time estimation\n",
    "So now lets see if we can predict retention times based on the input molecule"
   ]
  },
  {
   "cell_type": "code",
   "execution_count": null,
   "metadata": {},
   "outputs": [],
   "source": []
  },
  {
   "cell_type": "code",
   "execution_count": 6,
   "metadata": {},
   "outputs": [
    {
     "name": "stdout",
     "output_type": "stream",
     "text": [
      "The raw data shape is: (79957, 6)\n",
      "After removing rows without SMILES and retention time, the raw data shape is now: (79679, 6)\n"
     ]
    },
    {
     "data": {
      "text/html": [
       "<div>\n",
       "<style scoped>\n",
       "    .dataframe tbody tr th:only-of-type {\n",
       "        vertical-align: middle;\n",
       "    }\n",
       "\n",
       "    .dataframe tbody tr th {\n",
       "        vertical-align: top;\n",
       "    }\n",
       "\n",
       "    .dataframe thead th {\n",
       "        text-align: right;\n",
       "    }\n",
       "</style>\n",
       "<table border=\"1\" class=\"dataframe\">\n",
       "  <thead>\n",
       "    <tr style=\"text-align: right;\">\n",
       "      <th></th>\n",
       "      <th>pubchem</th>\n",
       "      <th>RetentionTime</th>\n",
       "      <th>inchi</th>\n",
       "      <th>SMILES</th>\n",
       "      <th>MolPol</th>\n",
       "      <th>IES</th>\n",
       "    </tr>\n",
       "  </thead>\n",
       "  <tbody>\n",
       "    <tr>\n",
       "      <th>0</th>\n",
       "      <td>5139</td>\n",
       "      <td>93.5</td>\n",
       "      <td>InChI=1S/C3H8N2S/c1-2-6-3(4)5/h2H2,1H3,(H3,4,5)</td>\n",
       "      <td>CCSC(=N)N</td>\n",
       "      <td>75.252525</td>\n",
       "      <td>-0.140576</td>\n",
       "    </tr>\n",
       "    <tr>\n",
       "      <th>1</th>\n",
       "      <td>3505</td>\n",
       "      <td>687.8</td>\n",
       "      <td>InChI=1S/C19H25Cl2N3O3/c1-27-19(26)23-8-9-24(1...</td>\n",
       "      <td>COC(=O)N1CCN(C(=O)Cc2ccc(Cl)c(Cl)c2)[C@H](CN2C...</td>\n",
       "      <td>272.214567</td>\n",
       "      <td>-0.300445</td>\n",
       "    </tr>\n",
       "    <tr>\n",
       "      <th>2</th>\n",
       "      <td>2159</td>\n",
       "      <td>590.7</td>\n",
       "      <td>InChI=1S/C17H27N3O4S/c1-4-20-8-6-7-12(20)11-19...</td>\n",
       "      <td>CCN1CCC[C@@H]1CN=C(O)c1cc(S(=O)(=O)CC)c(N)cc1OC</td>\n",
       "      <td>256.288278</td>\n",
       "      <td>-0.392000</td>\n",
       "    </tr>\n",
       "  </tbody>\n",
       "</table>\n",
       "</div>"
      ],
      "text/plain": [
       "   pubchem  RetentionTime                                              inchi  \\\n",
       "0     5139           93.5    InChI=1S/C3H8N2S/c1-2-6-3(4)5/h2H2,1H3,(H3,4,5)   \n",
       "1     3505          687.8  InChI=1S/C19H25Cl2N3O3/c1-27-19(26)23-8-9-24(1...   \n",
       "2     2159          590.7  InChI=1S/C17H27N3O4S/c1-4-20-8-6-7-12(20)11-19...   \n",
       "\n",
       "                                              SMILES      MolPol       IES  \n",
       "0                                          CCSC(=N)N   75.252525 -0.140576  \n",
       "1  COC(=O)N1CCN(C(=O)Cc2ccc(Cl)c(Cl)c2)[C@H](CN2C...  272.214567 -0.300445  \n",
       "2    CCN1CCC[C@@H]1CN=C(O)c1cc(S(=O)(=O)CC)c(N)cc1OC  256.288278 -0.392000  "
      ]
     },
     "execution_count": 6,
     "metadata": {},
     "output_type": "execute_result"
    }
   ],
   "source": [
    "rawData = pd.read_csv(datafile)\n",
    "rawData = rawData.drop(\"Unnamed: 0\", axis = 1);\n",
    "print('The raw data shape is:',rawData.shape)\n",
    "\n",
    "rawData.rename(columns={'rt': 'RetentionTime'}, inplace=True)\n",
    "\n",
    "rawData.dropna(subset=['SMILES', 'RetentionTime', 'MolPol', 'IES'], inplace=True);\n",
    "print('After removing rows without SMILES and retention time, the raw data shape is now:',rawData.shape)\n",
    "\n",
    "rawData.head(3)"
   ]
  },
  {
   "cell_type": "code",
   "execution_count": 7,
   "metadata": {},
   "outputs": [
    {
     "name": "stdout",
     "output_type": "stream",
     "text": [
      "The input data shape was: (79679, 4)\n"
     ]
    },
    {
     "data": {
      "image/png": "[encoded data removed]",
      "text/plain": [
       "<Figure size 432x288 with 1 Axes>"
      ]
     },
     "metadata": {
      "needs_background": "light"
     },
     "output_type": "display_data"
    }
   ],
   "source": [
    "inputData = rawData[['RetentionTime', 'SMILES', 'MolPol', 'IES']]\n",
    "retentionTime = rawData['RetentionTime']\n",
    "\n",
    "print('The input data shape was:',inputData.shape)\n",
    "plt.hist(inputData['RetentionTime'], bins=100);"
   ]
  },
  {
   "cell_type": "code",
   "execution_count": 8,
   "metadata": {},
   "outputs": [
    {
     "name": "stdout",
     "output_type": "stream",
     "text": [
      "The input data shape was: (79679, 4)\n"
     ]
    },
    {
     "data": {
      "image/png": "[encoded data removed]",
      "text/plain": [
       "<Figure size 432x288 with 1 Axes>"
      ]
     },
     "metadata": {
      "needs_background": "light"
     },
     "output_type": "display_data"
    }
   ],
   "source": [
    "inputDataNew = inputData[inputData['RetentionTime']>200]\n",
    "retentionTime = inputDataNew['RetentionTime']\n",
    "\n",
    "print('The input data shape was:',inputData.shape)\n",
    "plt.hist(inputDataNew['RetentionTime'], bins=100);"
   ]
  },
  {
   "cell_type": "code",
   "execution_count": 6,
   "metadata": {},
   "outputs": [
    {
     "name": "stdout",
     "output_type": "stream",
     "text": [
      "CPU times: user 1min 17s, sys: 1.17 s, total: 1min 18s\n",
      "Wall time: 1min 20s\n"
     ]
    },
    {
     "name": "stderr",
     "output_type": "stream",
     "text": [
      "/home/kcrh009/anaconda3/envs/rdkitEnv/lib/python3.6/site-packages/rdkit/Chem/PandasTools.py:418: SettingWithCopyWarning: \n",
      "A value is trying to be set on a copy of a slice from a DataFrame.\n",
      "Try using .loc[row_indexer,col_indexer] = value instead\n",
      "\n",
      "See the caveats in the documentation: https://pandas.pydata.org/pandas-docs/stable/user_guide/indexing.html#returning-a-view-versus-a-copy\n",
      "  frame[molCol] = frame[smilesCol].map(lambda smiles: _MolPlusFingerprint(\n"
     ]
    }
   ],
   "source": [
    "%%time\n",
    "PandasTools.AddMoleculeColumnToFrame(inputDataNew,smilesCol='SMILES',includeFingerprints=True)\n"
   ]
  },
  {
   "cell_type": "code",
   "execution_count": 9,
   "metadata": {},
   "outputs": [],
   "source": [
    "def getDescriptorsECFP4(dataframe): #change to 4!\n",
    "    morganFingerprintRingSize = 2\n",
    "    info={}\n",
    "    ECFP6_hashed = [Chem.GetMorganFingerprintAsBitVect(x,morganFingerprintRingSize, nBits=1024, bitInfo=info) for x in dataframe['ROMol']]\n",
    "\n",
    "    ECFP6_hashed_lists = [list(l) for l in ECFP6_hashed]\n",
    "    ECFP6_hashed_name = [f'FpBit_{i}' for i in range(1024)]\n",
    "\n",
    "    ECFP6_hashed_df = pd.DataFrame(ECFP6_hashed_lists, index = dataframe.index, columns=ECFP6_hashed_name)\n",
    "\n",
    "    inputDataWithDescriptorsFull = pd.concat([dataframe, ECFP6_hashed_df], axis = 1)\n",
    "    # remove fingerprints with no data (doesn't remove anything with fingerprints radius of 3)                           \n",
    "    inputDataWithDescriptorsFull = inputDataWithDescriptorsFull.loc[:,(inputDataWithDescriptorsFull != 0).any(axis=0)]\n",
    "\n",
    "    print('input data now has shape:', inputDataWithDescriptorsFull.shape)\n",
    "    return inputDataWithDescriptorsFull"
   ]
  },
  {
   "cell_type": "code",
   "execution_count": 15,
   "metadata": {},
   "outputs": [
    {
     "name": "stdout",
     "output_type": "stream",
     "text": [
      "input data now has shape: (77650, 1029)\n"
     ]
    },
    {
     "ename": "KeyboardInterrupt",
     "evalue": "",
     "output_type": "error",
     "traceback": [
      "\u001b[0;31m---------------------------------------------------------------------------\u001b[0m",
      "\u001b[0;31mKeyboardInterrupt\u001b[0m                         Traceback (most recent call last)",
      "\u001b[0;32m<timed exec>\u001b[0m in \u001b[0;36m<module>\u001b[0;34m\u001b[0m\n",
      "\u001b[0;32m~/anaconda3/envs/rdkitEnv/lib/python3.6/site-packages/pandas/core/generic.py\u001b[0m in \u001b[0;36mto_csv\u001b[0;34m(self, path_or_buf, sep, na_rep, float_format, columns, header, index, index_label, mode, encoding, compression, quoting, quotechar, line_terminator, chunksize, date_format, doublequote, escapechar, decimal, errors)\u001b[0m\n\u001b[1;32m   3168\u001b[0m             \u001b[0mdecimal\u001b[0m\u001b[0;34m=\u001b[0m\u001b[0mdecimal\u001b[0m\u001b[0;34m,\u001b[0m\u001b[0;34m\u001b[0m\u001b[0;34m\u001b[0m\u001b[0m\n\u001b[1;32m   3169\u001b[0m         )\n\u001b[0;32m-> 3170\u001b[0;31m         \u001b[0mformatter\u001b[0m\u001b[0;34m.\u001b[0m\u001b[0msave\u001b[0m\u001b[0;34m(\u001b[0m\u001b[0;34m)\u001b[0m\u001b[0;34m\u001b[0m\u001b[0;34m\u001b[0m\u001b[0m\n\u001b[0m\u001b[1;32m   3171\u001b[0m \u001b[0;34m\u001b[0m\u001b[0m\n\u001b[1;32m   3172\u001b[0m         \u001b[0;32mif\u001b[0m \u001b[0mpath_or_buf\u001b[0m \u001b[0;32mis\u001b[0m \u001b[0;32mNone\u001b[0m\u001b[0;34m:\u001b[0m\u001b[0;34m\u001b[0m\u001b[0;34m\u001b[0m\u001b[0m\n",
      "\u001b[0;32m~/anaconda3/envs/rdkitEnv/lib/python3.6/site-packages/pandas/io/formats/csvs.py\u001b[0m in \u001b[0;36msave\u001b[0;34m(self)\u001b[0m\n\u001b[1;32m    204\u001b[0m             )\n\u001b[1;32m    205\u001b[0m \u001b[0;34m\u001b[0m\u001b[0m\n\u001b[0;32m--> 206\u001b[0;31m             \u001b[0mself\u001b[0m\u001b[0;34m.\u001b[0m\u001b[0m_save\u001b[0m\u001b[0;34m(\u001b[0m\u001b[0;34m)\u001b[0m\u001b[0;34m\u001b[0m\u001b[0;34m\u001b[0m\u001b[0m\n\u001b[0m\u001b[1;32m    207\u001b[0m \u001b[0;34m\u001b[0m\u001b[0m\n\u001b[1;32m    208\u001b[0m         \u001b[0;32mfinally\u001b[0m\u001b[0;34m:\u001b[0m\u001b[0;34m\u001b[0m\u001b[0;34m\u001b[0m\u001b[0m\n",
      "\u001b[0;32m~/anaconda3/envs/rdkitEnv/lib/python3.6/site-packages/pandas/io/formats/csvs.py\u001b[0m in \u001b[0;36m_save\u001b[0;34m(self)\u001b[0m\n\u001b[1;32m    326\u001b[0m                 \u001b[0;32mbreak\u001b[0m\u001b[0;34m\u001b[0m\u001b[0;34m\u001b[0m\u001b[0m\n\u001b[1;32m    327\u001b[0m \u001b[0;34m\u001b[0m\u001b[0m\n\u001b[0;32m--> 328\u001b[0;31m             \u001b[0mself\u001b[0m\u001b[0;34m.\u001b[0m\u001b[0m_save_chunk\u001b[0m\u001b[0;34m(\u001b[0m\u001b[0mstart_i\u001b[0m\u001b[0;34m,\u001b[0m \u001b[0mend_i\u001b[0m\u001b[0;34m)\u001b[0m\u001b[0;34m\u001b[0m\u001b[0;34m\u001b[0m\u001b[0m\n\u001b[0m\u001b[1;32m    329\u001b[0m \u001b[0;34m\u001b[0m\u001b[0m\n\u001b[1;32m    330\u001b[0m     \u001b[0;32mdef\u001b[0m \u001b[0m_save_chunk\u001b[0m\u001b[0;34m(\u001b[0m\u001b[0mself\u001b[0m\u001b[0;34m,\u001b[0m \u001b[0mstart_i\u001b[0m\u001b[0;34m:\u001b[0m \u001b[0mint\u001b[0m\u001b[0;34m,\u001b[0m \u001b[0mend_i\u001b[0m\u001b[0;34m:\u001b[0m \u001b[0mint\u001b[0m\u001b[0;34m)\u001b[0m \u001b[0;34m->\u001b[0m \u001b[0;32mNone\u001b[0m\u001b[0;34m:\u001b[0m\u001b[0;34m\u001b[0m\u001b[0;34m\u001b[0m\u001b[0m\n",
      "\u001b[0;32m~/anaconda3/envs/rdkitEnv/lib/python3.6/site-packages/pandas/io/formats/csvs.py\u001b[0m in \u001b[0;36m_save_chunk\u001b[0;34m(self, start_i, end_i)\u001b[0m\n\u001b[1;32m    360\u001b[0m         )\n\u001b[1;32m    361\u001b[0m \u001b[0;34m\u001b[0m\u001b[0m\n\u001b[0;32m--> 362\u001b[0;31m         \u001b[0mlibwriters\u001b[0m\u001b[0;34m.\u001b[0m\u001b[0mwrite_csv_rows\u001b[0m\u001b[0;34m(\u001b[0m\u001b[0mself\u001b[0m\u001b[0;34m.\u001b[0m\u001b[0mdata\u001b[0m\u001b[0;34m,\u001b[0m \u001b[0mix\u001b[0m\u001b[0;34m,\u001b[0m \u001b[0mself\u001b[0m\u001b[0;34m.\u001b[0m\u001b[0mnlevels\u001b[0m\u001b[0;34m,\u001b[0m \u001b[0mself\u001b[0m\u001b[0;34m.\u001b[0m\u001b[0mcols\u001b[0m\u001b[0;34m,\u001b[0m \u001b[0mself\u001b[0m\u001b[0;34m.\u001b[0m\u001b[0mwriter\u001b[0m\u001b[0;34m)\u001b[0m\u001b[0;34m\u001b[0m\u001b[0;34m\u001b[0m\u001b[0m\n\u001b[0m",
      "\u001b[0;32mpandas/_libs/writers.pyx\u001b[0m in \u001b[0;36mpandas._libs.writers.write_csv_rows\u001b[0;34m()\u001b[0m\n",
      "\u001b[0;32m~/anaconda3/envs/rdkitEnv/lib/python3.6/site-packages/rdkit/Chem/PandasTools.py\u001b[0m in \u001b[0;36mPrintAsBase64PNGString\u001b[0;34m(x, renderer)\u001b[0m\n\u001b[1;32m    372\u001b[0m     \u001b[0;32mreturn\u001b[0m \u001b[0msvg\u001b[0m\u001b[0;34m.\u001b[0m\u001b[0mtoxml\u001b[0m\u001b[0;34m(\u001b[0m\u001b[0;34m)\u001b[0m\u001b[0;34m\u001b[0m\u001b[0;34m\u001b[0m\u001b[0m\n\u001b[1;32m    373\u001b[0m   \u001b[0;32melse\u001b[0m\u001b[0;34m:\u001b[0m\u001b[0;34m\u001b[0m\u001b[0;34m\u001b[0m\u001b[0m\n\u001b[0;32m--> 374\u001b[0;31m     \u001b[0mdata\u001b[0m \u001b[0;34m=\u001b[0m \u001b[0mDraw\u001b[0m\u001b[0;34m.\u001b[0m\u001b[0m_moltoimg\u001b[0m\u001b[0;34m(\u001b[0m\u001b[0mx\u001b[0m\u001b[0;34m,\u001b[0m \u001b[0mmolSize\u001b[0m\u001b[0;34m,\u001b[0m \u001b[0mhighlightAtoms\u001b[0m\u001b[0;34m,\u001b[0m \u001b[0;34m\"\"\u001b[0m\u001b[0;34m,\u001b[0m \u001b[0mreturnPNG\u001b[0m\u001b[0;34m=\u001b[0m\u001b[0;32mTrue\u001b[0m\u001b[0;34m,\u001b[0m \u001b[0mkekulize\u001b[0m\u001b[0;34m=\u001b[0m\u001b[0;32mTrue\u001b[0m\u001b[0;34m)\u001b[0m\u001b[0;34m\u001b[0m\u001b[0;34m\u001b[0m\u001b[0m\n\u001b[0m\u001b[1;32m    375\u001b[0m     return '<img data-content=\"rdkit/molecule\" src=\"data:image/png;base64,%s\" alt=\"Mol\"/>' % _get_image(\n\u001b[1;32m    376\u001b[0m       data)\n",
      "\u001b[0;32m~/anaconda3/envs/rdkitEnv/lib/python3.6/site-packages/rdkit/Chem/Draw/__init__.py\u001b[0m in \u001b[0;36m_moltoimg\u001b[0;34m(mol, sz, highlights, legend, returnPNG, drawOptions, **kwargs)\u001b[0m\n\u001b[1;32m    422\u001b[0m     \u001b[0mmol\u001b[0m\u001b[0;34m.\u001b[0m\u001b[0mUpdatePropertyCache\u001b[0m\u001b[0;34m(\u001b[0m\u001b[0;32mFalse\u001b[0m\u001b[0;34m)\u001b[0m\u001b[0;34m\u001b[0m\u001b[0;34m\u001b[0m\u001b[0m\n\u001b[1;32m    423\u001b[0m \u001b[0;34m\u001b[0m\u001b[0m\n\u001b[0;32m--> 424\u001b[0;31m   \u001b[0mkekulize\u001b[0m \u001b[0;34m=\u001b[0m \u001b[0m_okToKekulizeMol\u001b[0m\u001b[0;34m(\u001b[0m\u001b[0mmol\u001b[0m\u001b[0;34m,\u001b[0m \u001b[0mkwargs\u001b[0m\u001b[0;34m.\u001b[0m\u001b[0mget\u001b[0m\u001b[0;34m(\u001b[0m\u001b[0;34m'kekulize'\u001b[0m\u001b[0;34m,\u001b[0m \u001b[0;32mTrue\u001b[0m\u001b[0;34m)\u001b[0m\u001b[0;34m)\u001b[0m\u001b[0;34m\u001b[0m\u001b[0;34m\u001b[0m\u001b[0m\n\u001b[0m\u001b[1;32m    425\u001b[0m   \u001b[0mwedge\u001b[0m \u001b[0;34m=\u001b[0m \u001b[0mkwargs\u001b[0m\u001b[0;34m.\u001b[0m\u001b[0mget\u001b[0m\u001b[0;34m(\u001b[0m\u001b[0;34m'wedgeBonds'\u001b[0m\u001b[0;34m,\u001b[0m\u001b[0;32mTrue\u001b[0m\u001b[0;34m)\u001b[0m\u001b[0;34m\u001b[0m\u001b[0;34m\u001b[0m\u001b[0m\n\u001b[1;32m    426\u001b[0m \u001b[0;34m\u001b[0m\u001b[0m\n",
      "\u001b[0;32m~/anaconda3/envs/rdkitEnv/lib/python3.6/site-packages/rdkit/Chem/Draw/__init__.py\u001b[0m in \u001b[0;36m_okToKekulizeMol\u001b[0;34m(mol, kekulize)\u001b[0m\n\u001b[1;32m    409\u001b[0m \u001b[0;32mdef\u001b[0m \u001b[0m_okToKekulizeMol\u001b[0m\u001b[0;34m(\u001b[0m\u001b[0mmol\u001b[0m\u001b[0;34m,\u001b[0m \u001b[0mkekulize\u001b[0m\u001b[0;34m)\u001b[0m\u001b[0;34m:\u001b[0m\u001b[0;34m\u001b[0m\u001b[0;34m\u001b[0m\u001b[0m\n\u001b[1;32m    410\u001b[0m   \u001b[0;32mif\u001b[0m \u001b[0mkekulize\u001b[0m\u001b[0;34m:\u001b[0m\u001b[0;34m\u001b[0m\u001b[0;34m\u001b[0m\u001b[0m\n\u001b[0;32m--> 411\u001b[0;31m     \u001b[0;32mfor\u001b[0m \u001b[0mbond\u001b[0m \u001b[0;32min\u001b[0m \u001b[0mmol\u001b[0m\u001b[0;34m.\u001b[0m\u001b[0mGetBonds\u001b[0m\u001b[0;34m(\u001b[0m\u001b[0;34m)\u001b[0m\u001b[0;34m:\u001b[0m\u001b[0;34m\u001b[0m\u001b[0;34m\u001b[0m\u001b[0m\n\u001b[0m\u001b[1;32m    412\u001b[0m       \u001b[0;32mif\u001b[0m \u001b[0mbond\u001b[0m\u001b[0;34m.\u001b[0m\u001b[0mGetIsAromatic\u001b[0m\u001b[0;34m(\u001b[0m\u001b[0;34m)\u001b[0m \u001b[0;32mand\u001b[0m \u001b[0mbond\u001b[0m\u001b[0;34m.\u001b[0m\u001b[0mHasQuery\u001b[0m\u001b[0;34m(\u001b[0m\u001b[0;34m)\u001b[0m\u001b[0;34m:\u001b[0m\u001b[0;34m\u001b[0m\u001b[0;34m\u001b[0m\u001b[0m\n\u001b[1;32m    413\u001b[0m         \u001b[0;32mreturn\u001b[0m \u001b[0;32mFalse\u001b[0m\u001b[0;34m\u001b[0m\u001b[0;34m\u001b[0m\u001b[0m\n",
      "\u001b[0;31mKeyboardInterrupt\u001b[0m: "
     ]
    }
   ],
   "source": [
    "%%time\n",
    "inputDataWithDescriptors = getDescriptorsECFP4(inputDataNew)\n",
    "inputDataWithDescriptors.to_csv('Data/inputDataWithDescriptorsECFP4.csv')"
   ]
  },
  {
   "cell_type": "code",
   "execution_count": 8,
   "metadata": {},
   "outputs": [],
   "source": [
    "# Load instead of making\n",
    "inputDataWithDescriptors = pd.read_csv('Data/inputDataWithDescriptorsECFP4.csv')\n",
    "inputDataWithDescriptors.drop(\"Unnamed: 0\", axis = 1, inplace=True);"
   ]
  },
  {
   "cell_type": "code",
   "execution_count": 9,
   "metadata": {},
   "outputs": [
    {
     "data": {
      "text/html": [
       "<div>\n",
       "<style scoped>\n",
       "    .dataframe tbody tr th:only-of-type {\n",
       "        vertical-align: middle;\n",
       "    }\n",
       "\n",
       "    .dataframe tbody tr th {\n",
       "        vertical-align: top;\n",
       "    }\n",
       "\n",
       "    .dataframe thead th {\n",
       "        text-align: right;\n",
       "    }\n",
       "</style>\n",
       "<table border=\"1\" class=\"dataframe\">\n",
       "  <thead>\n",
       "    <tr style=\"text-align: right;\">\n",
       "      <th></th>\n",
       "      <th>RetentionTime</th>\n",
       "      <th>SMILES</th>\n",
       "      <th>MolPol</th>\n",
       "      <th>IES</th>\n",
       "      <th>ROMol</th>\n",
       "      <th>FpBit_0</th>\n",
       "      <th>FpBit_1</th>\n",
       "      <th>FpBit_2</th>\n",
       "      <th>FpBit_3</th>\n",
       "      <th>FpBit_4</th>\n",
       "      <th>...</th>\n",
       "      <th>FpBit_1014</th>\n",
       "      <th>FpBit_1015</th>\n",
       "      <th>FpBit_1016</th>\n",
       "      <th>FpBit_1017</th>\n",
       "      <th>FpBit_1018</th>\n",
       "      <th>FpBit_1019</th>\n",
       "      <th>FpBit_1020</th>\n",
       "      <th>FpBit_1021</th>\n",
       "      <th>FpBit_1022</th>\n",
       "      <th>FpBit_1023</th>\n",
       "    </tr>\n",
       "  </thead>\n",
       "  <tbody>\n",
       "    <tr>\n",
       "      <th>0</th>\n",
       "      <td>687.8</td>\n",
       "      <td>COC(=O)N1CCN(C(=O)Cc2ccc(Cl)c(Cl)c2)[C@H](CN2C...</td>\n",
       "      <td>272.214567</td>\n",
       "      <td>-0.300445</td>\n",
       "      <td><img data-content=\"rdkit/molecule\" src=\"data:image/png;base64,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\" alt=\"Mol\"/></td>\n",
       "      <td>0</td>\n",
       "      <td>0</td>\n",
       "      <td>0</td>\n",
       "      <td>0</td>\n",
       "      <td>1</td>\n",
       "      <td>...</td>\n",
       "      <td>0</td>\n",
       "      <td>0</td>\n",
       "      <td>0</td>\n",
       "      <td>0</td>\n",
       "      <td>0</td>\n",
       "      <td>1</td>\n",
       "      <td>0</td>\n",
       "      <td>0</td>\n",
       "      <td>0</td>\n",
       "      <td>0</td>\n",
       "    </tr>\n",
       "    <tr>\n",
       "      <th>1</th>\n",
       "      <td>590.7</td>\n",
       "      <td>CCN1CCC[C@@H]1CN=C(O)c1cc(S(=O)(=O)CC)c(N)cc1OC</td>\n",
       "      <td>256.288278</td>\n",
       "      <td>-0.392000</td>\n",
       "      <td><img data-content=\"rdkit/molecule\" src=\"data:image/png;base64,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\" alt=\"Mol\"/></td>\n",
       "      <td>0</td>\n",
       "      <td>0</td>\n",
       "      <td>0</td>\n",
       "      <td>0</td>\n",
       "      <td>1</td>\n",
       "      <td>...</td>\n",
       "      <td>0</td>\n",
       "      <td>0</td>\n",
       "      <td>0</td>\n",
       "      <td>0</td>\n",
       "      <td>0</td>\n",
       "      <td>1</td>\n",
       "      <td>0</td>\n",
       "      <td>0</td>\n",
       "      <td>0</td>\n",
       "      <td>0</td>\n",
       "    </tr>\n",
       "    <tr>\n",
       "      <th>2</th>\n",
       "      <td>583.6</td>\n",
       "      <td>Oc1cccc2c(O)nccc12</td>\n",
       "      <td>112.988057</td>\n",
       "      <td>-0.141635</td>\n",
       "      <td><img data-content=\"rdkit/molecule\" src=\"data:image/png;base64,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\" alt=\"Mol\"/></td>\n",
       "      <td>0</td>\n",
       "      <td>0</td>\n",
       "      <td>0</td>\n",
       "      <td>0</td>\n",
       "      <td>0</td>\n",
       "      <td>...</td>\n",
       "      <td>0</td>\n",
       "      <td>0</td>\n",
       "      <td>0</td>\n",
       "      <td>0</td>\n",
       "      <td>0</td>\n",
       "      <td>0</td>\n",
       "      <td>1</td>\n",
       "      <td>0</td>\n",
       "      <td>0</td>\n",
       "      <td>0</td>\n",
       "    </tr>\n",
       "  </tbody>\n",
       "</table>\n",
       "<p>3 rows × 1029 columns</p>\n",
       "</div>"
      ],
      "text/plain": [
       "   RetentionTime                                             SMILES  \\\n",
       "0          687.8  COC(=O)N1CCN(C(=O)Cc2ccc(Cl)c(Cl)c2)[C@H](CN2C...   \n",
       "1          590.7    CCN1CCC[C@@H]1CN=C(O)c1cc(S(=O)(=O)CC)c(N)cc1OC   \n",
       "2          583.6                                 Oc1cccc2c(O)nccc12   \n",
       "\n",
       "       MolPol       IES                                              ROMol  \\\n",
       "0  272.214567 -0.300445  <img data-content=\"rdkit/molecule\" src=\"data:i...   \n",
       "1  256.288278 -0.392000  <img data-content=\"rdkit/molecule\" src=\"data:i...   \n",
       "2  112.988057 -0.141635  <img data-content=\"rdkit/molecule\" src=\"data:i...   \n",
       "\n",
       "   FpBit_0  FpBit_1  FpBit_2  FpBit_3  FpBit_4  ...  FpBit_1014  FpBit_1015  \\\n",
       "0        0        0        0        0        1  ...           0           0   \n",
       "1        0        0        0        0        1  ...           0           0   \n",
       "2        0        0        0        0        0  ...           0           0   \n",
       "\n",
       "   FpBit_1016  FpBit_1017  FpBit_1018  FpBit_1019  FpBit_1020  FpBit_1021  \\\n",
       "0           0           0           0           1           0           0   \n",
       "1           0           0           0           1           0           0   \n",
       "2           0           0           0           0           1           0   \n",
       "\n",
       "   FpBit_1022  FpBit_1023  \n",
       "0           0           0  \n",
       "1           0           0  \n",
       "2           0           0  \n",
       "\n",
       "[3 rows x 1029 columns]"
      ]
     },
     "execution_count": 9,
     "metadata": {},
     "output_type": "execute_result"
    }
   ],
   "source": [
    "inputDataWithDescriptors.head(3)"
   ]
  },
  {
   "cell_type": "code",
   "execution_count": 10,
   "metadata": {},
   "outputs": [],
   "source": [
    "#features_df = inputDataWithDescriptors.drop(['RetentionTime', 'SMILES', 'Ipc', 'ROMol', 'MaxPartialCharge', 'MinPartialCharge', 'MaxAbsPartialCharge', 'MinAbsPartialCharge'], axis = 1)\n",
    "features_df = inputDataWithDescriptors.drop(['RetentionTime', 'ROMol', 'SMILES'], axis = 1)\n",
    "feature_list = list(features_df.columns)\n",
    "features_full_df = features_df\n",
    "features = np.array(features_df)\n",
    "\n",
    "labels = np.array(inputDataWithDescriptors['RetentionTime'])\n"
   ]
  },
  {
   "cell_type": "code",
   "execution_count": 11,
   "metadata": {},
   "outputs": [],
   "source": [
    "train_features, test_features, train_labels, test_labels = train_test_split(features, labels, test_size = 0.25, random_state = 42)\n",
    "\n",
    "baseline = np.mean(train_labels)\n",
    "baseline_error = test_labels-baseline\n"
   ]
  },
  {
   "cell_type": "code",
   "execution_count": 12,
   "metadata": {},
   "outputs": [
    {
     "name": "stdout",
     "output_type": "stream",
     "text": [
      "CPU times: user 370 ms, sys: 450 ms, total: 820 ms\n",
      "Wall time: 954 ms\n"
     ]
    }
   ],
   "source": [
    "%%time\n",
    "rf = joblib.load(\"Model/rfModelMetlin.joblib\")\n",
    "#rf = RandomForestRegressor(n_estimators = 150, random_state = 42)\n",
    "#rf.fit(train_features, train_labels);\n",
    "#joblib.dump(rf, \"rfModel.joblib\")"
   ]
  },
  {
   "cell_type": "code",
   "execution_count": 13,
   "metadata": {},
   "outputs": [],
   "source": [
    "predictions = rf.predict(test_features)\n",
    "rf_error = predictions - test_labels"
   ]
  },
  {
   "cell_type": "code",
   "execution_count": null,
   "metadata": {},
   "outputs": [],
   "source": []
  },
  {
   "cell_type": "code",
   "execution_count": null,
   "metadata": {},
   "outputs": [],
   "source": []
  },
  {
   "cell_type": "code",
   "execution_count": 14,
   "metadata": {},
   "outputs": [
    {
     "name": "stdout",
     "output_type": "stream",
     "text": [
      "Mean RF Error: 39.14 seconds.\n",
      "Median RF Error: 23.21 seconds.\n",
      "Mean Baseline Error: 141.7 seconds.\n"
     ]
    },
    {
     "data": {
      "image/png": "[encoded data removed]",
      "text/plain": [
       "<Figure size 432x288 with 1 Axes>"
      ]
     },
     "metadata": {
      "needs_background": "light"
     },
     "output_type": "display_data"
    }
   ],
   "source": [
    "print('Mean RF Error:', round(np.mean(abs(np.array(rf_error))), 2), 'seconds.')\n",
    "print('Median RF Error:', round(np.median(abs(np.array(rf_error))), 2), 'seconds.')\n",
    "\n",
    "print('Mean Baseline Error:', round(np.mean(abs(np.array(baseline_error))),2), 'seconds.')\n",
    "\n",
    "plt.hist(baseline_error, 100, alpha=0.5, label='Baseline', density=True);\n",
    "plt.hist(rf_error, 100, alpha=0.5, label='RF', density=True)\n",
    "plt.legend(loc='upper right')\n",
    "plt.xlim(-500, 500)\n",
    "plt.show()"
   ]
  },
  {
   "cell_type": "code",
   "execution_count": 15,
   "metadata": {},
   "outputs": [
    {
     "name": "stdout",
     "output_type": "stream",
     "text": [
      "(39886, 1027)\n",
      "(39886, 1027)\n"
     ]
    }
   ],
   "source": [
    "inputNonKallisto = inputDataWithDescriptors.copy()\n",
    "inputNonKallisto = inputNonKallisto.drop([\"IES\", \"MolPol\"], axis=1)\n",
    "#inputNonKallisto = inputDataWithDescriptorsOld.drop(indexFailedKallisto)\n",
    "print(inputNonKallisto.shape)\n",
    "\n",
    "inputNonKallisto.dropna(inplace=True)\n",
    "\n",
    "print(inputNonKallisto.shape)"
   ]
  },
  {
   "cell_type": "code",
   "execution_count": 16,
   "metadata": {},
   "outputs": [],
   "source": [
    "inputNonKallisto.to_csv('Data/inputDataWithDescriptorsNonKallistoECFP.csv')"
   ]
  },
  {
   "cell_type": "code",
   "execution_count": 17,
   "metadata": {},
   "outputs": [],
   "source": [
    "features_df_nonKallisto = inputNonKallisto.drop(['RetentionTime', 'SMILES', 'ROMol'], axis = 1)\n",
    "feature_list_nonKallisto = list(features_df_nonKallisto.columns)\n",
    "features_nonKallisto = np.array(features_df_nonKallisto)\n",
    "\n",
    "labels_nonKallisto = np.array(inputDataWithDescriptors['RetentionTime'])"
   ]
  },
  {
   "cell_type": "code",
   "execution_count": 18,
   "metadata": {},
   "outputs": [],
   "source": [
    "train_features_nonKallisto, test_features_nonKallisto, train_labels_nonKallisto, test_labels_nonKallisto = train_test_split(features_nonKallisto, labels_nonKallisto, test_size = 0.25, random_state = 42)\n",
    "\n",
    "baseline_nonKallisto = np.mean(train_labels_nonKallisto)\n",
    "baseline_error_nonKallisto = test_labels_nonKallisto-baseline_nonKallisto\n",
    "\n"
   ]
  },
  {
   "cell_type": "code",
   "execution_count": 19,
   "metadata": {},
   "outputs": [
    {
     "name": "stdout",
     "output_type": "stream",
     "text": [
      "CPU times: user 406 ms, sys: 325 ms, total: 731 ms\n",
      "Wall time: 830 ms\n"
     ]
    }
   ],
   "source": [
    "%%time\n",
    "rf_nonKallisto = joblib.load(\"Model/rfModel_nonKallistoMetlin.joblib\")\n",
    "#rf_nonKallisto = RandomForestRegressor(n_estimators = 150, random_state = 42)\n",
    "#rf_nonKallisto.fit(train_features_nonKallisto, train_labels_nonKallisto);\n",
    "#joblib.dump(rf_nonKallisto, \"rfModel_nonKallisto.joblib\")"
   ]
  },
  {
   "cell_type": "code",
   "execution_count": null,
   "metadata": {},
   "outputs": [],
   "source": []
  },
  {
   "cell_type": "code",
   "execution_count": 20,
   "metadata": {},
   "outputs": [
    {
     "name": "stdout",
     "output_type": "stream",
     "text": [
      "CPU times: user 970 ms, sys: 13 ms, total: 983 ms\n",
      "Wall time: 1.01 s\n"
     ]
    }
   ],
   "source": [
    "%%time\n",
    "predictions_nonKallisto = rf_nonKallisto.predict(test_features_nonKallisto)\n",
    "rf_error_nonKallisto = predictions_nonKallisto - test_labels_nonKallisto"
   ]
  },
  {
   "cell_type": "code",
   "execution_count": null,
   "metadata": {},
   "outputs": [],
   "source": []
  },
  {
   "cell_type": "code",
   "execution_count": 21,
   "metadata": {},
   "outputs": [
    {
     "name": "stdout",
     "output_type": "stream",
     "text": [
      "Mean RF Error: 41.67 seconds.\n",
      "Median RF Error: 24.99 seconds.\n",
      "Mean Baseline Error: 141.7 seconds.\n"
     ]
    },
    {
     "data": {
      "image/png": "[encoded data removed]",
      "text/plain": [
       "<Figure size 432x288 with 1 Axes>"
      ]
     },
     "metadata": {
      "needs_background": "light"
     },
     "output_type": "display_data"
    }
   ],
   "source": [
    "print('Mean RF Error:', round(np.mean(abs(np.array(rf_error_nonKallisto))), 2), 'seconds.')\n",
    "print('Median RF Error:', round(np.median(abs(np.array(rf_error_nonKallisto))), 2), 'seconds.')\n",
    "\n",
    "print('Mean Baseline Error:', round(np.mean(abs(np.array(baseline_error_nonKallisto))),2), 'seconds.')\n",
    "\n",
    "plt.hist(baseline_error_nonKallisto, 100, alpha=0.5, label='Baseline', density=True);\n",
    "plt.hist(rf_error_nonKallisto, 100, alpha=0.5, label='RF', density=True)\n",
    "plt.legend(loc='upper right')\n",
    "plt.xlim(-500, 500)\n",
    "plt.show()"
   ]
  },
  {
   "cell_type": "code",
   "execution_count": null,
   "metadata": {},
   "outputs": [],
   "source": []
  },
  {
   "cell_type": "code",
   "execution_count": 22,
   "metadata": {},
   "outputs": [
    {
     "name": "stdout",
     "output_type": "stream",
     "text": [
      "Mean RF Error Validation on METLIN: 39 seconds.\n",
      "Mean RF Error nonKallisto Validation on METLIN: 42 seconds.\n",
      "RMSE for method Validation on METLIN: 62 seconds.\n",
      "RMSE for nonKallisto method Validation on METLIN: 66 seconds.\n",
      "Improvement in Validation MSE is 7.14\n",
      "Improvement in Validation RMSE is 6.06\n"
     ]
    }
   ],
   "source": [
    "kallistoMean = round(np.mean(abs(np.array(rf_error))))\n",
    "nonkallistoMean = round(np.mean(abs(np.array(rf_error_nonKallisto))))\n",
    "                        \n",
    "kallistoRmse = round(np.sqrt(np.mean(np.array(rf_error)**2)))\n",
    "nonKallistoRmse = round(np.sqrt(np.mean(np.array(rf_error_nonKallisto)**2)))       \n",
    "                     \n",
    "print('Mean RF Error Validation on METLIN:', kallistoMean, 'seconds.')\n",
    "print('Mean RF Error nonKallisto Validation on METLIN:', nonkallistoMean, 'seconds.')\n",
    "\n",
    "print('RMSE for method Validation on METLIN:', kallistoRmse, 'seconds.')\n",
    "print('RMSE for nonKallisto method Validation on METLIN:', nonKallistoRmse, 'seconds.')\n",
    "\n",
    "print('Improvement in Validation MSE is', np.round((nonkallistoMean - kallistoMean)/nonkallistoMean*100,2))\n",
    "print('Improvement in Validation RMSE is', np.round((nonKallistoRmse - kallistoRmse)/nonKallistoRmse*100,2))\n",
    "\n"
   ]
  },
  {
   "cell_type": "code",
   "execution_count": 28,
   "metadata": {},
   "outputs": [
    {
     "data": {
      "image/png": "[encoded data removed]",
      "text/plain": [
       "<Figure size 432x288 with 1 Axes>"
      ]
     },
     "metadata": {
      "needs_background": "light"
     },
     "output_type": "display_data"
    }
   ],
   "source": [
    "rfkallisto = rf\n",
    "importances_full = rfkallisto.feature_importances_\n",
    "std_full = np.std([tree.feature_importances_ for tree in rfkallisto.estimators_], axis=0)\n",
    "indices_full = np.argsort(importances_full)[::-1]\n",
    "\n",
    "k = 10\n",
    "plt.figure()\n",
    "plt.title(\"Feature importances\")\n",
    "plt.bar(range(k), importances_full[indices_full[0:k]],\n",
    "        color=\"r\", yerr=std_full[indices_full[0:k]], align=\"center\")\n",
    "plt.xticks(range(k), features_df.columns[indices_full[0:k]], rotation='vertical')\n",
    "plt.xlim([-1, k])\n",
    "plt.grid(True)\n",
    "\n",
    "plt.savefig('Output/fullImportancesMETLIN.pdf')\n",
    "\n",
    "plt.show()"
   ]
  },
  {
   "cell_type": "markdown",
   "metadata": {},
   "source": [
    "## Feature reduction\n"
   ]
  },
  {
   "cell_type": "code",
   "execution_count": 21,
   "metadata": {},
   "outputs": [],
   "source": [
    "def feature_reduction(features_df, low_var_thresh = 0.05, corr_thresh = 0.9):\n",
    "    '''\n",
    "    remove low variance and highly correlated features\n",
    "    \n",
    "    inputDf: the input dataframe\n",
    "    \n",
    "    '''\n",
    "    # Remove low variance features\n",
    "    selector = VarianceThreshold(low_var_thresh)\n",
    "    selector.fit(features_df)\n",
    "    high_var_df = features_df[features_df.columns[selector.get_support(indices=True)]]\n",
    "    \n",
    "    #remove high correlated features\n",
    "    ## Create correlation matrix\n",
    "    corr_matrix = high_var_df.corr().abs()\n",
    "    # Select upper triangle of correlation matrix\n",
    "    upper = corr_matrix.where(np.triu(np.ones(corr_matrix.shape), k=1).astype(np.bool))\n",
    "    \n",
    "    # Find index of feature columns with correlation greater than 0.95\n",
    "    to_drop = [column for column in upper.columns if any(upper[column] > corr_thresh)]\n",
    "    \n",
    "    return high_var_df.drop(high_var_df[to_drop], axis=1)\n"
   ]
  },
  {
   "cell_type": "code",
   "execution_count": 22,
   "metadata": {},
   "outputs": [
    {
     "name": "stdout",
     "output_type": "stream",
     "text": [
      "feature shape was (39886, 1024)\n",
      "reduced features are now (39886, 206)\n"
     ]
    }
   ],
   "source": [
    "print('feature shape was', features_df_nonKallisto.shape)\n",
    "features_reduced_nonKallisto = feature_reduction(features_df_nonKallisto)\n",
    "print('reduced features are now', features_reduced_nonKallisto.shape)"
   ]
  },
  {
   "cell_type": "code",
   "execution_count": null,
   "metadata": {},
   "outputs": [],
   "source": []
  },
  {
   "cell_type": "code",
   "execution_count": 23,
   "metadata": {},
   "outputs": [
    {
     "name": "stdout",
     "output_type": "stream",
     "text": [
      "feature shape was (39886, 1026)\n",
      "reduced features are now (39886, 206)\n"
     ]
    }
   ],
   "source": [
    "print('feature shape was', features_df.shape)\n",
    "features_reduced = features_reduced_nonKallisto.copy()\n",
    "features_reduced = features_reduced.iloc[: , :-2]\n",
    "features_reduced['MolPol'] = features_df['MolPol']\n",
    "features_reduced['IES'] = features_df['IES']\n",
    "\n",
    "print('reduced features are now', features_reduced.shape)"
   ]
  },
  {
   "cell_type": "code",
   "execution_count": 24,
   "metadata": {},
   "outputs": [],
   "source": [
    "feature_list = list(features_reduced.columns)\n",
    "features = np.array(features_reduced)\n",
    "\n",
    "labels = np.array(inputDataWithDescriptors['RetentionTime'])"
   ]
  },
  {
   "cell_type": "code",
   "execution_count": 25,
   "metadata": {},
   "outputs": [],
   "source": [
    "feature_list_nonKallisto = list(features_reduced_nonKallisto.columns)\n",
    "features_nonKallisto = np.array(features_reduced_nonKallisto)\n",
    "\n",
    "labels_nonKallisto = np.array(inputNonKallisto['RetentionTime'])"
   ]
  },
  {
   "cell_type": "code",
   "execution_count": 26,
   "metadata": {},
   "outputs": [],
   "source": [
    "train_features, test_features, train_labels, test_labels = train_test_split(features, labels, test_size = 0.25, random_state = 42)\n",
    "train_features_nonKallisto, test_features_nonKallisto, train_labels_nonKallisto, test_labels_nonKallisto = train_test_split(features_nonKallisto, labels_nonKallisto, test_size = 0.25, random_state = 42)"
   ]
  },
  {
   "cell_type": "code",
   "execution_count": 27,
   "metadata": {},
   "outputs": [
    {
     "name": "stdout",
     "output_type": "stream",
     "text": [
      "CPU times: user 106 µs, sys: 4 µs, total: 110 µs\n",
      "Wall time: 114 µs\n"
     ]
    }
   ],
   "source": [
    "%%time\n",
    "baseline = np.mean(train_labels)\n",
    "baseline_error = test_labels-baseline\n"
   ]
  },
  {
   "cell_type": "code",
   "execution_count": 35,
   "metadata": {},
   "outputs": [
    {
     "name": "stdout",
     "output_type": "stream",
     "text": [
      "CPU times: user 1min 29s, sys: 9.14 ms, total: 1min 29s\n",
      "Wall time: 1min 32s\n"
     ]
    },
    {
     "data": {
      "text/plain": [
       "RandomForestRegressor(max_depth=50, min_samples_leaf=2, min_samples_split=5,\n",
       "                      n_estimators=150, random_state=42)"
      ]
     },
     "execution_count": 35,
     "metadata": {},
     "output_type": "execute_result"
    }
   ],
   "source": [
    "%%time\n",
    "#rf_reduced = joblib.load(\"Model/rfModel_reducedMetlin.joblib\")\n",
    "rf_reduced = RandomForestRegressor( max_depth=50, min_samples_leaf=2, min_samples_split=5, n_estimators=150, random_state = 42)\n",
    "rf_reduced.fit(train_features, train_labels);\n",
    "\n",
    "#joblib.dump(rf_reduced, \"Model/rfModel_reducedMetlin.joblib\")"
   ]
  },
  {
   "cell_type": "code",
   "execution_count": 36,
   "metadata": {},
   "outputs": [],
   "source": [
    "predictions_reduced = rf_reduced.predict(test_features)\n",
    "# Calculate the absolute errors\n",
    "errors_reduced = predictions_reduced - test_labels"
   ]
  },
  {
   "cell_type": "code",
   "execution_count": 37,
   "metadata": {},
   "outputs": [
    {
     "name": "stdout",
     "output_type": "stream",
     "text": [
      "CPU times: user 193 µs, sys: 4 µs, total: 197 µs\n",
      "Wall time: 202 µs\n"
     ]
    }
   ],
   "source": [
    "%%time\n",
    "baseline_nonKallisto = np.mean(train_labels_nonKallisto)\n",
    "baseline_error_nonKallisto = test_labels_nonKallisto-baseline_nonKallisto\n",
    "\n",
    "\n"
   ]
  },
  {
   "cell_type": "code",
   "execution_count": 31,
   "metadata": {},
   "outputs": [
    {
     "name": "stdout",
     "output_type": "stream",
     "text": [
      "CPU times: user 114 ms, sys: 18 ms, total: 132 ms\n",
      "Wall time: 178 ms\n"
     ]
    }
   ],
   "source": [
    "%%time\n",
    "rf_nonKallisto_reduced = joblib.load(\"Model/rfModel_nonKallistor_reducedMetlin.joblib\")\n",
    "\n",
    "#rf_nonKallisto_reduced = RandomForestRegressor( max_depth=50, min_samples_leaf=2, min_samples_split=5, n_estimators=150, random_state = 42)\n",
    "#rf_nonKallisto_reduced.fit(train_features_nonKallisto, train_labels_nonKallisto);\n",
    "\n",
    "#joblib.dump(rf_nonKallisto_reduced, \"Model/rfModel_nonKallistor_reducedMetlin.joblib\")"
   ]
  },
  {
   "cell_type": "code",
   "execution_count": 38,
   "metadata": {},
   "outputs": [],
   "source": [
    "predictions_nonKallisto_reduced = rf_nonKallisto_reduced.predict(test_features_nonKallisto)\n",
    "# Calculate the absolute errors\n",
    "errors_nonKallisto_reduced = predictions_nonKallisto_reduced - test_labels_nonKallisto"
   ]
  },
  {
   "cell_type": "code",
   "execution_count": 39,
   "metadata": {},
   "outputs": [
    {
     "name": "stdout",
     "output_type": "stream",
     "text": [
      "Mean RF Error: 71.58 seconds.\n",
      "Mean RF Error Non Kallisto: 78.29 seconds.\n"
     ]
    }
   ],
   "source": [
    "print('Mean RF Error:', round(np.mean(abs(np.array(errors_reduced))), 2), 'seconds.')\n",
    "print('Mean RF Error Non Kallisto:', round(np.mean(abs(np.array(errors_nonKallisto_reduced))), 2), 'seconds.')\n"
   ]
  },
  {
   "cell_type": "code",
   "execution_count": 34,
   "metadata": {},
   "outputs": [
    {
     "name": "stdout",
     "output_type": "stream",
     "text": [
      "Mean RF Error Validation: 71.363 seconds.\n",
      "Mean RF Error nonKallisto Validation: 78.293 seconds.\n",
      "RMSE for method Validation: 100.059 seconds.\n",
      "RMSE for nonKallisto method Validation: 107.651 seconds.\n",
      "Improvement in Validation RMSE is 7.588\n"
     ]
    }
   ],
   "source": [
    "kallistoMean = round(np.mean(abs(np.array(errors_reduced))), 3)\n",
    "nonKallistoMean = round(np.mean(abs(np.array(errors_nonKallisto_reduced))), 3)\n",
    "\n",
    "kallistoRmse = round(np.sqrt(np.mean(np.array(errors_reduced)**2)), 3)\n",
    "nonKallistoRmse = round(np.sqrt(np.mean(np.array(errors_nonKallisto_reduced)**2)), 3)\n",
    "\n",
    "print('Mean RF Error Validation:', kallistoMean, 'seconds.')\n",
    "print('Mean RF Error nonKallisto Validation:', nonKallistoMean, 'seconds.')\n",
    "\n",
    "print('RMSE for method Validation:', kallistoRmse, 'seconds.')\n",
    "print('RMSE for nonKallisto method Validation:', nonKallistoRmse, 'seconds.')\n",
    "\n",
    "print('Improvement in Validation RMSE is', np.round((nonKallistoRmse-kallistoRmse)/kallistoRmse*100,3))"
   ]
  },
  {
   "cell_type": "code",
   "execution_count": 38,
   "metadata": {},
   "outputs": [
    {
     "data": {
      "text/plain": [
       "Index(['MolPol', 'IES', 'FpBit_136', 'FpBit_767', 'FpBit_842', 'FpBit_518',\n",
       "       'FpBit_675', 'FpBit_23', 'FpBit_807', 'FpBit_989', 'FpBit_145',\n",
       "       'FpBit_985', 'FpBit_659', 'FpBit_935', 'FpBit_121', 'FpBit_926',\n",
       "       'FpBit_80', 'FpBit_904', 'FpBit_960', 'FpBit_242', 'FpBit_579',\n",
       "       'FpBit_378', 'FpBit_720', 'FpBit_350', 'FpBit_799', 'FpBit_140',\n",
       "       'FpBit_552', 'FpBit_392', 'FpBit_77', 'FpBit_456', 'FpBit_695',\n",
       "       'FpBit_314', 'FpBit_294', 'FpBit_875', 'FpBit_73', 'FpBit_831',\n",
       "       'FpBit_504', 'FpBit_672', 'FpBit_698', 'FpBit_932', 'FpBit_114',\n",
       "       'FpBit_881', 'FpBit_175', 'FpBit_128', 'FpBit_248', 'FpBit_527',\n",
       "       'FpBit_407', 'FpBit_325', 'FpBit_650', 'FpBit_271'],\n",
       "      dtype='object')"
      ]
     },
     "execution_count": 38,
     "metadata": {},
     "output_type": "execute_result"
    }
   ],
   "source": [
    "importances = rf_reduced.feature_importances_\n",
    "std = np.std([tree.feature_importances_ for tree in rf.estimators_], axis=0)\n",
    "indices = np.argsort(importances)[::-1]\n",
    "features_reduced.columns[indices[0:50]]"
   ]
  },
  {
   "cell_type": "code",
   "execution_count": 39,
   "metadata": {},
   "outputs": [
    {
     "name": "stdout",
     "output_type": "stream",
     "text": [
      "MolPol importance is : 0\n",
      "IES importance is : 1\n"
     ]
    }
   ],
   "source": [
    "test_list = features_reduced.columns[indices]=='MolPol'\n",
    "res = next((i for i, j in enumerate(test_list) if j), None)\n",
    "print (\"MolPol importance is : \" + str(res))\n",
    "\n",
    "\n",
    "test_list = features_reduced.columns[indices]=='IES'\n",
    "res = next((i for i, j in enumerate(test_list) if j), None)\n",
    "print (\"IES importance is : \" + str(res))"
   ]
  },
  {
   "cell_type": "code",
   "execution_count": 44,
   "metadata": {},
   "outputs": [
    {
     "data": {
      "image/png": "[encoded data removed]",
      "text/plain": [
       "<Figure size 432x288 with 1 Axes>"
      ]
     },
     "metadata": {
      "needs_background": "light"
     },
     "output_type": "display_data"
    }
   ],
   "source": [
    "rfkallisto = rf\n",
    "importances_full = rfkallisto.feature_importances_\n",
    "std_full = np.std([tree.feature_importances_ for tree in rfkallisto.estimators_], axis=0)\n",
    "indices_full = np.argsort(importances_full)[::-1]\n",
    "\n",
    "k = 15\n",
    "plt.figure()\n",
    "plt.title(\"Feature importances\")\n",
    "plt.bar(range(k), importances_full[indices_full[0:k]],\n",
    "        color=\"r\", yerr=std_full[indices_full[0:k]], align=\"center\")\n",
    "plt.xticks(range(k), features_df.columns[indices_full[0:k]], rotation='vertical')\n",
    "plt.xlim([-1, k])\n",
    "plt.savefig('Output/fullImportances.pdf')\n",
    "\n",
    "plt.show()"
   ]
  },
  {
   "cell_type": "code",
   "execution_count": 43,
   "metadata": {},
   "outputs": [
    {
     "data": {
      "image/png": "[encoded data removed]",
      "text/plain": [
       "<Figure size 432x288 with 1 Axes>"
      ]
     },
     "metadata": {
      "needs_background": "light"
     },
     "output_type": "display_data"
    }
   ],
   "source": [
    "rf_reduced_kallisto = rf_reduced\n",
    "importances_reduced = rf_reduced_kallisto.feature_importances_\n",
    "std_reduced = np.std([tree.feature_importances_ for tree in rf_reduced_kallisto.estimators_], axis=0)\n",
    "indices_reduced = np.argsort(importances_reduced)[::-1]\n",
    "\n",
    "k = 15\n",
    "plt.figure()\n",
    "plt.title(\"Feature importances\")\n",
    "plt.bar(range(k), importances_reduced[indices_reduced[0:k]],\n",
    "        color=\"r\", yerr=std_reduced[indices_reduced[0:k]], align=\"center\")\n",
    "plt.xticks(range(k), features_reduced.columns[indices_reduced[0:k]], rotation='vertical')\n",
    "plt.xlim([-1, k])\n",
    "plt.savefig('Output/reducedImportances.pdf')\n",
    "\n",
    "plt.show()"
   ]
  },
  {
   "cell_type": "code",
   "execution_count": null,
   "metadata": {},
   "outputs": [],
   "source": [
    "rfkallisto = rf\n",
    "\n"
   ]
  },
  {
   "cell_type": "code",
   "execution_count": 55,
   "metadata": {},
   "outputs": [
    {
     "data": {
      "image/png": "[encoded data removed]",
      "text/plain": [
       "<Figure size 432x288 with 1 Axes>"
      ]
     },
     "metadata": {
      "needs_background": "light"
     },
     "output_type": "display_data"
    }
   ],
   "source": [
    "importances_full = rfkallisto.feature_importances_\n",
    "std_full = np.std([tree.feature_importances_ for tree in rfkallisto.estimators_], axis=0)\n",
    "indices_full = np.argsort(importances_full)[::-1]\n",
    "\n",
    "k = 15\n",
    "plt.figure()\n",
    "plt.title(\"Feature importances\")\n",
    "plt.bar(range(k), importances_full[indices_full[0:k]],\n",
    "        color=\"r\", yerr=std_full[indices_full[0:k]]/10, align=\"center\")\n",
    "plt.xticks(range(k), features_df.columns[indices_full[0:k]], rotation='vertical')\n",
    "plt.xlim([-1, k])\n",
    "plt.savefig('Output/fullImportances.pdf')\n",
    "\n",
    "plt.show()"
   ]
  },
  {
   "cell_type": "code",
   "execution_count": null,
   "metadata": {},
   "outputs": [],
   "source": []
  }
 ],
 "metadata": {
  "kernelspec": {
   "display_name": "rdkitEnv",
   "language": "python",
   "name": "rdkitenv"
  },
  "language_info": {
   "codemirror_mode": {
    "name": "ipython",
    "version": 3
   },
   "file_extension": ".py",
   "mimetype": "text/x-python",
   "name": "python",
   "nbconvert_exporter": "python",
   "pygments_lexer": "ipython3",
   "version": "3.6.13"
  }
 },
 "nbformat": 4,
 "nbformat_minor": 4
}
